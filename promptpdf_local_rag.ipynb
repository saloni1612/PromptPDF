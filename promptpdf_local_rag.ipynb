
{
 "cells": [
  {
   "cell_type": "markdown",
   "metadata": {},
   "source": [
    "# PromptPDF - Local RAG Pipeline\n",
    "Local CPU-only RAG pipeline using sentence-transformers and Ollama."
   ]
  },
  {
   "cell_type": "code",
   "execution_count": null,
   "metadata": {},
   "outputs": [],
   "source": [
    "# Install dependencies\n",
    "!pip install -q sentence-transformers PyPDF2 faiss-cpu"
   ]
  },
  {
   "cell_type": "code",
   "execution_count": null,
   "metadata": {},
   "outputs": [],
   "source": [
    "# Imports\n",
    "from PyPDF2 import PdfReader\n",
    "from sentence_transformers import SentenceTransformer\n",
    "import numpy as np\n",
    "import faiss\n",
    "import requests\n",
    "import json"
   ]
  },
  {
   "cell_type": "code",
   "execution_count": null,
   "metadata": {},
   "outputs": [],
   "source": [
    "# PDF Extraction\n",
    "def extract_text_from_pdf(pdf_path):\n",
    "    reader = PdfReader(pdf_path)\n",
    "    text = ""\n",
    "    for page in reader.pages:\n",
    "        text += page.extract_text() + "\n"\n",
    "    return text\n",
    "\n",
    "pdf_path = "sample.pdf"  # Replace with your local PDF\n",
    "raw_text = extract_text_from_pdf(pdf_path)\n",
    "print(f"Total characters extracted: {len(raw_text)}")"
   ]
  },
  {
   "cell_type": "code",
   "execution_count": null,
   "metadata": {},
   "outputs": [],
   "source": [
    "# Text Chunking\n",
    "def split_text(text, chunk_size=300, overlap=50):\n",
    "    words = text.split()\n",
    "    chunks = []\n",
    "    for i in range(0, len(words), chunk_size - overlap):\n",
    "        chunk = " ".join(words[i:i + chunk_size])\n",
    "        chunks.append(chunk)\n",
    "    return chunks\n",
    "\n",
    "chunks = split_text(raw_text)\n",
    "print(f"Total chunks created: {len(chunks)}")"
   ]
  },
  {
   "cell_type": "code",
   "execution_count": null,
   "metadata": {},
   "outputs": [],
   "source": [
    "# Load Embedder\n",
    "embedder = SentenceTransformer("all-MiniLM-L6-v2")\n",
    "embeddings = embedder.encode(chunks, show_progress_bar=True)"
   ]
  },
  {
   "cell_type": "code",
   "execution_count": null,
   "metadata": {},
   "outputs": [],
   "source": [
    "# FAISS Indexing\n",
    "dimension = embeddings[0].shape[0]\n",
    "index = faiss.IndexFlatL2(dimension)\n",
    "index.add(np.array(embeddings))"
   ]
  },
  {
   "cell_type": "code",
   "execution_count": null,
   "metadata": {},
   "outputs": [],
   "source": [
    "# Retrieval\n",
    "def retrieve(query, k=5):\n",
    "    query_embedding = embedder.encode([query])\n",
    "    distances, indices = index.search(np.array(query_embedding), k)\n",
    "    return [chunks[i] for i in indices[0]]"
   ]
  },
  {
   "cell_type": "code",
   "execution_count": null,
   "metadata": {},
   "outputs": [],
   "source": [
    "# Local Generation using Ollama\n",
    "def generate_answer_ollama(context, question, model="mistral"):\n",
    "    prompt = f"Context:\n{context}\n\nQuestion: {question}\nAnswer:"\n",
    "    response = requests.post(\n",
    "        "http://localhost:11434/api/generate",\n",
    "        json={"model": model, "prompt": prompt, "stream": False}\n",
    "    )\n",
    "    return response.json()["response"]"
   ]
  },
  {
   "cell_type": "code",
   "execution_count": null,
   "metadata": {},
   "outputs": [],
   "source": [
    "# Example Query\n",
    "query = "What are the effects of Vitamin D?"\n",
    "retrieved_chunks = retrieve(query)\n",
    "context = "\n\n".join(retrieved_chunks)\n",
    "print("Retrieved Context:\n", context)\n",
    "print("\nGenerating Answer...")\n",
    "answer = generate_answer_ollama(context, query)\n",
    "print("\nAnswer:\n", answer)"
   ]
  }
 ],
 "metadata": {
  "kernelspec": {
   "display_name": "Python 3",
   "language": "python",
   "name": "python3"
  },
  "language_info": {
   "name": "python",
   "version": ""
  }
 },
 "nbformat": 4,
 "nbformat_minor": 5
}
